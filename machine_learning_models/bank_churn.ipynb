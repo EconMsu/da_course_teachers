{
 "cells": [
  {
   "cell_type": "markdown",
   "metadata": {},
   "source": [
    "# Отток клиентов"
   ]
  },
  {
   "cell_type": "markdown",
   "metadata": {},
   "source": [
    "Коммерческого банка `Большой Кошелек` стали уходить клиенты. Каждый месяц. Немного, но заметно. Банковские маркетологи посчитали: сохранять текущих клиентов дешевле, чем привлекать новых.\n",
    "\n",
    "Необходимо спрогнозировать, уйдёт клиент из банка в ближайшее время или нет.\n"
   ]
  },
  {
   "cell_type": "markdown",
   "metadata": {},
   "source": [
    "# 1. Подготовка данных"
   ]
  },
  {
   "cell_type": "code",
   "execution_count": 1,
   "metadata": {},
   "outputs": [],
   "source": [
    "# загрузка библиотеки\n",
    "# (1) для осуществления операций с массивом данных\n",
    "import pandas as pd\n",
    "# (2) для построения диаграмм\n",
    "import matplotlib.pyplot as plt\n",
    "%matplotlib inline\n",
    "import seaborn as sns\n",
    "# изменение тем графического построения\n",
    "plt.style.use('ggplot')\n",
    "sns.set_style('darkgrid')\n",
    "# загрузка метрик: (a) F1, (б) ROC-кривая, (в) площадь по ROC-кривой\n",
    "from sklearn.metrics import f1_score, roc_curve, roc_auc_score\n",
    "# загрузка метода, позволяющего стандартизировать наблюдения\n",
    "from sklearn.preprocessing import StandardScaler\n",
    "# загрузка модели случайного леса\n",
    "from sklearn.ensemble import RandomForestClassifier\n",
    "# загрузка метода, позводяющего разделить выборочную совокупность\n",
    "from sklearn.model_selection import train_test_split\n",
    "# загрузка метода, позволяющего перемешать наблюдения\n",
    "from sklearn.utils import shuffle\n",
    "# загрузка модуля для фиксирования времени\n",
    "import time"
   ]
  },
  {
   "cell_type": "code",
   "execution_count": 2,
   "metadata": {},
   "outputs": [],
   "source": [
    "start_project_time = time.time()"
   ]
  },
  {
   "cell_type": "code",
   "execution_count": 3,
   "metadata": {},
   "outputs": [],
   "source": [
    "# загрузка массива статистических данных\n",
    "churn = pd.read_csv('bank_churn.csv')"
   ]
  },
  {
   "cell_type": "code",
   "execution_count": 4,
   "metadata": {},
   "outputs": [
    {
     "data": {
      "text/html": [
       "<div>\n",
       "<style scoped>\n",
       "    .dataframe tbody tr th:only-of-type {\n",
       "        vertical-align: middle;\n",
       "    }\n",
       "\n",
       "    .dataframe tbody tr th {\n",
       "        vertical-align: top;\n",
       "    }\n",
       "\n",
       "    .dataframe thead th {\n",
       "        text-align: right;\n",
       "    }\n",
       "</style>\n",
       "<table border=\"1\" class=\"dataframe\">\n",
       "  <thead>\n",
       "    <tr style=\"text-align: right;\">\n",
       "      <th></th>\n",
       "      <th>RowNumber</th>\n",
       "      <th>CustomerId</th>\n",
       "      <th>Surname</th>\n",
       "      <th>CreditScore</th>\n",
       "      <th>Geography</th>\n",
       "      <th>Gender</th>\n",
       "      <th>Age</th>\n",
       "      <th>Tenure</th>\n",
       "      <th>Balance</th>\n",
       "      <th>NumOfProducts</th>\n",
       "      <th>HasCrCard</th>\n",
       "      <th>IsActiveMember</th>\n",
       "      <th>EstimatedSalary</th>\n",
       "      <th>Exited</th>\n",
       "    </tr>\n",
       "  </thead>\n",
       "  <tbody>\n",
       "    <tr>\n",
       "      <th>0</th>\n",
       "      <td>1</td>\n",
       "      <td>15634602</td>\n",
       "      <td>Hargrave</td>\n",
       "      <td>619</td>\n",
       "      <td>France</td>\n",
       "      <td>Female</td>\n",
       "      <td>42</td>\n",
       "      <td>2.0</td>\n",
       "      <td>0.00</td>\n",
       "      <td>1</td>\n",
       "      <td>1</td>\n",
       "      <td>1</td>\n",
       "      <td>101348.88</td>\n",
       "      <td>1</td>\n",
       "    </tr>\n",
       "    <tr>\n",
       "      <th>1</th>\n",
       "      <td>2</td>\n",
       "      <td>15647311</td>\n",
       "      <td>Hill</td>\n",
       "      <td>608</td>\n",
       "      <td>Spain</td>\n",
       "      <td>Female</td>\n",
       "      <td>41</td>\n",
       "      <td>1.0</td>\n",
       "      <td>83807.86</td>\n",
       "      <td>1</td>\n",
       "      <td>0</td>\n",
       "      <td>1</td>\n",
       "      <td>112542.58</td>\n",
       "      <td>0</td>\n",
       "    </tr>\n",
       "    <tr>\n",
       "      <th>2</th>\n",
       "      <td>3</td>\n",
       "      <td>15619304</td>\n",
       "      <td>Onio</td>\n",
       "      <td>502</td>\n",
       "      <td>France</td>\n",
       "      <td>Female</td>\n",
       "      <td>42</td>\n",
       "      <td>8.0</td>\n",
       "      <td>159660.80</td>\n",
       "      <td>3</td>\n",
       "      <td>1</td>\n",
       "      <td>0</td>\n",
       "      <td>113931.57</td>\n",
       "      <td>1</td>\n",
       "    </tr>\n",
       "    <tr>\n",
       "      <th>3</th>\n",
       "      <td>4</td>\n",
       "      <td>15701354</td>\n",
       "      <td>Boni</td>\n",
       "      <td>699</td>\n",
       "      <td>France</td>\n",
       "      <td>Female</td>\n",
       "      <td>39</td>\n",
       "      <td>1.0</td>\n",
       "      <td>0.00</td>\n",
       "      <td>2</td>\n",
       "      <td>0</td>\n",
       "      <td>0</td>\n",
       "      <td>93826.63</td>\n",
       "      <td>0</td>\n",
       "    </tr>\n",
       "    <tr>\n",
       "      <th>4</th>\n",
       "      <td>5</td>\n",
       "      <td>15737888</td>\n",
       "      <td>Mitchell</td>\n",
       "      <td>850</td>\n",
       "      <td>Spain</td>\n",
       "      <td>Female</td>\n",
       "      <td>43</td>\n",
       "      <td>2.0</td>\n",
       "      <td>125510.82</td>\n",
       "      <td>1</td>\n",
       "      <td>1</td>\n",
       "      <td>1</td>\n",
       "      <td>79084.10</td>\n",
       "      <td>0</td>\n",
       "    </tr>\n",
       "  </tbody>\n",
       "</table>\n",
       "</div>"
      ],
      "text/plain": [
       "   RowNumber  CustomerId   Surname  CreditScore Geography  Gender  Age  \\\n",
       "0          1    15634602  Hargrave          619    France  Female   42   \n",
       "1          2    15647311      Hill          608     Spain  Female   41   \n",
       "2          3    15619304      Onio          502    France  Female   42   \n",
       "3          4    15701354      Boni          699    France  Female   39   \n",
       "4          5    15737888  Mitchell          850     Spain  Female   43   \n",
       "\n",
       "   Tenure    Balance  NumOfProducts  HasCrCard  IsActiveMember  \\\n",
       "0     2.0       0.00              1          1               1   \n",
       "1     1.0   83807.86              1          0               1   \n",
       "2     8.0  159660.80              3          1               0   \n",
       "3     1.0       0.00              2          0               0   \n",
       "4     2.0  125510.82              1          1               1   \n",
       "\n",
       "   EstimatedSalary  Exited  \n",
       "0        101348.88       1  \n",
       "1        112542.58       0  \n",
       "2        113931.57       1  \n",
       "3         93826.63       0  \n",
       "4         79084.10       0  "
      ]
     },
     "execution_count": 4,
     "metadata": {},
     "output_type": "execute_result"
    }
   ],
   "source": [
    "# вывод первых 5-ти наблюдений выборочной совокупности\n",
    "churn.head()"
   ]
  },
  {
   "cell_type": "code",
   "execution_count": 5,
   "metadata": {},
   "outputs": [
    {
     "name": "stdout",
     "output_type": "stream",
     "text": [
      "<class 'pandas.core.frame.DataFrame'>\n",
      "RangeIndex: 10000 entries, 0 to 9999\n",
      "Data columns (total 14 columns):\n",
      " #   Column           Non-Null Count  Dtype  \n",
      "---  ------           --------------  -----  \n",
      " 0   RowNumber        10000 non-null  int64  \n",
      " 1   CustomerId       10000 non-null  int64  \n",
      " 2   Surname          10000 non-null  object \n",
      " 3   CreditScore      10000 non-null  int64  \n",
      " 4   Geography        10000 non-null  object \n",
      " 5   Gender           10000 non-null  object \n",
      " 6   Age              10000 non-null  int64  \n",
      " 7   Tenure           9091 non-null   float64\n",
      " 8   Balance          10000 non-null  float64\n",
      " 9   NumOfProducts    10000 non-null  int64  \n",
      " 10  HasCrCard        10000 non-null  int64  \n",
      " 11  IsActiveMember   10000 non-null  int64  \n",
      " 12  EstimatedSalary  10000 non-null  float64\n",
      " 13  Exited           10000 non-null  int64  \n",
      "dtypes: float64(3), int64(8), object(3)\n",
      "memory usage: 1.1+ MB\n"
     ]
    }
   ],
   "source": [
    "# Вывод общей информации о переменных выборочной совокупности\n",
    "churn.info()"
   ]
  },
  {
   "cell_type": "markdown",
   "metadata": {},
   "source": [
    "Таким образом, выборочная совокупность состоит из 10 000 клиентов банка `Большой Кошелек`. По каждому клиенту имееются следующие показатели (в скобках указан тип переменной):\n",
    "- RowNumber — индекс строки в данных (целочисленный формат)\n",
    "- CustomerId — уникальный идентификатор клиента (целочисленный формат)\n",
    "- Surname — фамилия (строковый формат)\n",
    "- CreditScore — кредитный рейтинг (целочисленный формат)\n",
    "- Geography — страна проживания (строковый формат)\n",
    "- Gender — пол (строковый формат)\n",
    "- Age — возраст (целочисленный формат)\n",
    "- Tenure — количество недвижимости у клиента (формат с плавающей точкой)\n",
    "- Balance — баланс на счёте (формат с плавающей точкой)\n",
    "- NumOfProducts — количество продуктов банка, используемых клиентом (целочисленный формат)\n",
    "- HasCrCard — наличие кредитной карты (целочисленный формат)\n",
    "- IsActiveMember — активность клиента (целочисленный формат)\n",
    "- EstimatedSalary — предполагаемая зарплата (формат с плавающей точкой)\n",
    "\n",
    "Целевым признаком является:\n",
    "- Exited — факт ухода клиента (целочисленный формат)"
   ]
  },
  {
   "cell_type": "markdown",
   "metadata": {},
   "source": [
    "По переменной, отражающей количество недвижимости у клиента Tenure имеются 9091 наблюдения из 10 000. Возможные причины пропуска: (1) у клиента действительно нет официальных документов, подтверждающих наличие недвижимости: например, клиент может проживать на съемной квартире, (2) недвижимость может быть оформлена не на него лично, а на близких людей.\n",
    "\n",
    "Стоит отметить, что индекс строки RowNumber, уникальный идентификатор CustomerId, фамилия клиента Surname скорее не имеют столь полезной информации в определении вероятности ухода."
   ]
  },
  {
   "cell_type": "code",
   "execution_count": 6,
   "metadata": {},
   "outputs": [
    {
     "data": {
      "text/plain": [
       "1.0     0.104719\n",
       "2.0     0.104499\n",
       "8.0     0.102629\n",
       "3.0     0.102079\n",
       "5.0     0.101969\n",
       "7.0     0.101749\n",
       "4.0     0.097349\n",
       "9.0     0.097019\n",
       "6.0     0.096909\n",
       "10.0    0.049060\n",
       "0.0     0.042020\n",
       "Name: Tenure, dtype: float64"
      ]
     },
     "execution_count": 6,
     "metadata": {},
     "output_type": "execute_result"
    }
   ],
   "source": [
    "# Осуществим подсчет доли уникального количества недвижимости клиентов\n",
    "churn['Tenure'].value_counts(normalize=True)"
   ]
  },
  {
   "cell_type": "markdown",
   "metadata": {},
   "source": [
    "Так как имеем клиентов у которых действительно нет недвижимости, то заполнение пропущенных наблюдений по количеству недвижимости нулевыми значениями приведет к смещению результатов в пользу клиентов у которых нет недвижимости."
   ]
  },
  {
   "cell_type": "code",
   "execution_count": 7,
   "metadata": {},
   "outputs": [],
   "source": [
    "# Заполним пропущенные наблюдения по количеству недвижимости медианным значением\n",
    "churn['Tenure'] = churn['Tenure'].fillna(value=churn['Tenure'].median())"
   ]
  },
  {
   "cell_type": "code",
   "execution_count": 8,
   "metadata": {},
   "outputs": [
    {
     "name": "stdout",
     "output_type": "stream",
     "text": [
      "Gender:\n",
      "Male      0.5457\n",
      "Female    0.4543\n",
      "Name: Gender, dtype: float64\n",
      "\n",
      "Geography:\n",
      "France     0.5014\n",
      "Germany    0.2509\n",
      "Spain      0.2477\n",
      "Name: Geography, dtype: float64\n",
      "\n"
     ]
    }
   ],
   "source": [
    "# Осуществим подсчет доли уникальных величин переменной, отражающей пол клиента и страну проживания\n",
    "for feature in ['Gender','Geography']:\n",
    "    print(feature + ':')\n",
    "    print(churn[feature].value_counts(normalize=True))\n",
    "    print()"
   ]
  },
  {
   "cell_type": "markdown",
   "metadata": {},
   "source": [
    "45.43 процента исходной выборочной совокупности составляют клиенты женского пола, 54.57 процентов являются клиентами мужского пола. Далее, преобразуем пол Gender в индикаторные переменные. Половина клиентов проживают во Франции."
   ]
  },
  {
   "cell_type": "code",
   "execution_count": 9,
   "metadata": {},
   "outputs": [
    {
     "data": {
      "image/png": "[encoded data removed]",
      "text/plain": [
       "<Figure size 432x288 with 1 Axes>"
      ]
     },
     "metadata": {},
     "output_type": "display_data"
    },
    {
     "data": {
      "image/png": "[encoded data removed]",
      "text/plain": [
       "<Figure size 432x288 with 1 Axes>"
      ]
     },
     "metadata": {},
     "output_type": "display_data"
    },
    {
     "data": {
      "image/png": "[encoded data removed]",
      "text/plain": [
       "<Figure size 432x288 with 1 Axes>"
      ]
     },
     "metadata": {},
     "output_type": "display_data"
    },
    {
     "data": {
      "image/png": "[encoded data removed]",
      "text/plain": [
       "<Figure size 432x288 with 1 Axes>"
      ]
     },
     "metadata": {},
     "output_type": "display_data"
    },
    {
     "data": {
      "image/png": "[encoded data removed]",
      "text/plain": [
       "<Figure size 432x288 with 1 Axes>"
      ]
     },
     "metadata": {},
     "output_type": "display_data"
    }
   ],
   "source": [
    "# Через цикл for для переменных, которые отражают\n",
    "# (1) количество продуктов банка, используемые клиентом, (2) наличие кредитной карты, (3) активности клиента,\n",
    "# (4) страны проживания, (5) гендерного признака клиента\n",
    "for feature in ['NumOfProducts','HasCrCard','IsActiveMember','Geography','Gender']:\n",
    "    # построим столбиковые диграммы, иллюстрирующие количество фактов ухода из банка\n",
    "    sns.countplot(x=feature, hue='Exited', data=churn)\n",
    "    # вывод соответствующих диаграмм\n",
    "    plt.show()"
   ]
  },
  {
   "cell_type": "markdown",
   "metadata": {},
   "source": [
    "- чем б*о*льшим количеством продуктов банка пользуется клиент, тем менее вероятно не будет пользоваться услугами банка\n",
    "- отсутствие кредитной карты повышает вероятность ухода из банка\n",
    "- активность клиента снижает вероятность ухода из банка\n",
    "- наименьшая доля оттока клиентов наблюдается во Франции, наибольшая - в Германиии\n",
    "- чаще услугами банка перестают пользоваться женщины по сравнению с мужчинами"
   ]
  },
  {
   "cell_type": "code",
   "execution_count": 10,
   "metadata": {},
   "outputs": [],
   "source": [
    "# Вычислим среднее значение предполагаемой заработной платы\n",
    "mean_est_salary = churn['EstimatedSalary'].mean()\n",
    "# Вычислим значение третьего квартиля предполагаемой заработной платы\n",
    "upper_est_salary = churn['EstimatedSalary'].describe()['75%']\n",
    "\n",
    "# Определим функцию, которая классифицирует клиентов в зависимости от величины предполагаемой заработной платы\n",
    "def salary_category(salary):\n",
    "    '''\n",
    "    salary: предполагаемая заработная плата\n",
    "    output: классификация клиентов в зависимости от предполагаемой заработной платы\n",
    "    '''\n",
    "    # Если преполагаемая заработная плата меньше средней величины,\n",
    "    if salary < mean_est_salary:\n",
    "        # то классифируем клиента в категорию \"низкой зарплаты\"\n",
    "        return 'low_salary'\n",
    "    # Если предполагаемая заработная плата (а) не меньше средней величины, (б) меньше третьего квартиля, то\n",
    "    elif mean_est_salary <= salary < upper_est_salary:\n",
    "        # то классифицируем клиента в категорию средней \"заработной платы\"\n",
    "        return 'mean_salary'\n",
    "    # в остальных случаях,\n",
    "    else:\n",
    "        # классифицируем клиента в категорию \"высокой зарплаты\"\n",
    "        return 'high_salary'"
   ]
  },
  {
   "cell_type": "code",
   "execution_count": 11,
   "metadata": {},
   "outputs": [],
   "source": [
    "# Сформируем столбец salary_category, в котором отражены три категории клиентов в зависимости от зарплаты\n",
    "churn['salary_category'] = churn['EstimatedSalary'].apply(salary_category)"
   ]
  },
  {
   "cell_type": "code",
   "execution_count": 12,
   "metadata": {},
   "outputs": [],
   "source": [
    "# Вычислим среднее значение баланса на счете\n",
    "mean_balance = churn['Balance'].mean()\n",
    "# Вычислим значение третьего квартиля баланса на счете\n",
    "upper_balance = churn['Balance'].describe()['75%']\n",
    "\n",
    "# Определим функцию, которая классифицирует клиентов в зависимости от величины баланса на счете\n",
    "def balance_category(balance):\n",
    "    '''\n",
    "    balance: баланс на счете\n",
    "    output: классификация клиентов на три категории в зависимости от величины баланса на счете\n",
    "    '''\n",
    "    # Если баланс меньше средней величины, то\n",
    "    if balance < mean_balance:\n",
    "        # классифицируем клиента в категорию \"низкий баланс\"\n",
    "        return 'low_balance'\n",
    "    # Если баланс (а) не меньше средней величины и (б) меньше третьего квартиля, то\n",
    "    elif mean_balance <= balance < upper_balance:\n",
    "        # классифицируем клиента в категорию \"средний баланс\"\n",
    "        return 'mean_balance'\n",
    "    # В остальных случаях,\n",
    "    else:\n",
    "        # классифицируем клиента в категорию \"высокий баланс\"\n",
    "        return 'high_balance'"
   ]
  },
  {
   "cell_type": "code",
   "execution_count": 13,
   "metadata": {},
   "outputs": [],
   "source": [
    "# Сформируем столбец balance_category, в котором отражены три категории клиентов в зависимости от баланса на счете\n",
    "churn['balance_category'] = churn['Balance'].apply(balance_category)"
   ]
  },
  {
   "cell_type": "code",
   "execution_count": 14,
   "metadata": {},
   "outputs": [],
   "source": [
    "# Вычислим средний возраст клиентов\n",
    "mean_age = churn['Age'].mean()\n",
    "# Вычислим величину третьего квартиля возраста клиентов\n",
    "upper_age = churn['Age'].describe()['75%']\n",
    "\n",
    "# Определим функцию, которая классифицирует клиентов в зависимости от возраста\n",
    "def age_category(age):\n",
    "    '''\n",
    "    age: возраст клиента\n",
    "    output: классификация клиентов на три категории в зависимости от возраста\n",
    "    '''\n",
    "    # Если возраст меньше средней величины, то\n",
    "    if age < mean_age:\n",
    "        # клиент относится к категории \"молодой\"\n",
    "        return 'young_age'\n",
    "    # Если возраст (а) не меньше средней величины, (б) меньше третьего квартиля, то\n",
    "    elif mean_age <= age < upper_age:\n",
    "        # клиент относится к категории \"средний возраст\"\n",
    "        return 'middle_age'\n",
    "    # В остальных случаях, \n",
    "    else:\n",
    "        # клиент относится к категории \"старший возраст\"\n",
    "        return 'upper_age'"
   ]
  },
  {
   "cell_type": "code",
   "execution_count": 15,
   "metadata": {},
   "outputs": [],
   "source": [
    "# Сформируем столбец age_category, в котором отражены категории в зависимости от возраста клиентов\n",
    "churn['age_category'] = churn['Age'].apply(age_category)"
   ]
  },
  {
   "cell_type": "code",
   "execution_count": 16,
   "metadata": {},
   "outputs": [],
   "source": [
    "# Методом .get_dummies преобразуем переменные, содержащие индикаторные переменные.\n",
    "# Для преодоления проблемы мультиколлинеарности удалим первый столбец соответствующих индикаторных переменных.\n",
    "churn = pd.get_dummies(data=churn,\n",
    "                       columns=['Gender','Geography','salary_category','balance_category','age_category'],\n",
    "                       drop_first=True)"
   ]
  },
  {
   "cell_type": "code",
   "execution_count": 17,
   "metadata": {},
   "outputs": [],
   "source": [
    "# Выделим целевой признак, отражающий факт ухода клиента.\n",
    "target = churn['Exited']\n",
    "# Удалим (1) целевой признак, (2) индекс строки, (3) фамилию, (4) уникальный идентификатор клиента.\n",
    "# Остальные показатели перенесены в матрицу характеристик клиентов features.\n",
    "features = churn.drop(labels=['Exited','RowNumber','Surname','CustomerId'], axis=1)"
   ]
  },
  {
   "cell_type": "code",
   "execution_count": 18,
   "metadata": {},
   "outputs": [],
   "source": [
    "# Разделим исходную выборочную совокупность на\n",
    "# (1) обучающее и (2) валидационное множества.\n",
    "# 80 процентов приходятся на обучающее множество. 20 процентов - валидационное множество\n",
    "features_train, features_valid, target_train, target_valid = train_test_split(features, target,\n",
    "                                                                              test_size=0.2,\n",
    "                                                                              random_state=42)"
   ]
  },
  {
   "cell_type": "code",
   "execution_count": 19,
   "metadata": {},
   "outputs": [],
   "source": [
    "# Далее, разделим обучающее множество на\n",
    "# (1) обучающее и (2) тестовое множества.\n",
    "# Для сохранения равности размерности валидационного и тестового множеств,\n",
    "# стоит определить 25 процентов обучающего множества на тестовое множество,\n",
    "# так как 100 * 0.2 = 20, что соответствует валидационному множеству.\n",
    "# В свою очередь, 80 * 0.25 = 20 что соответствует тестовому множеству.\n",
    "features_train, features_test, target_train, target_test = train_test_split(features_train, target_train,\n",
    "                                                                            test_size=0.25,\n",
    "                                                                            random_state=42)"
   ]
  },
  {
   "cell_type": "code",
   "execution_count": 20,
   "metadata": {},
   "outputs": [
    {
     "name": "stdout",
     "output_type": "stream",
     "text": [
      "Размерность\n",
      "(а) Исходного множества: (10000, 17)\n",
      "(б) Обучающего множества: (6000, 17)\n",
      "(в) Валидационного множества: (2000, 17)\n",
      "(г) Тестового множества: (2000, 17)\n"
     ]
    }
   ],
   "source": [
    "# Вывод размерности каждого из 4-х множеств\n",
    "print('Размерность')\n",
    "print('(а) Исходного множества:', features.shape)\n",
    "print('(б) Обучающего множества:', features_train.shape)\n",
    "print('(в) Валидационного множества:', features_valid.shape)\n",
    "print('(г) Тестового множества:', features_test.shape)"
   ]
  },
  {
   "cell_type": "markdown",
   "metadata": {},
   "source": [
    "Действительно, соблюдается равенство размерности валидационного и тестового множеств.\n",
    "\n",
    "Далее, перейдем к стандартизации наблюдений."
   ]
  },
  {
   "cell_type": "code",
   "execution_count": 21,
   "metadata": {},
   "outputs": [],
   "source": [
    "# Выделим наименования столбцов, формат которых является (а) целочисленным int64, (б) с плавающей точкой float64\n",
    "numeric_features = features.select_dtypes(include=['int64','float64']).columns"
   ]
  },
  {
   "cell_type": "code",
   "execution_count": 22,
   "metadata": {},
   "outputs": [
    {
     "data": {
      "text/plain": [
       "Index(['CreditScore', 'Age', 'Tenure', 'Balance', 'NumOfProducts', 'HasCrCard',\n",
       "       'IsActiveMember', 'EstimatedSalary'],\n",
       "      dtype='object')"
      ]
     },
     "execution_count": 22,
     "metadata": {},
     "output_type": "execute_result"
    }
   ],
   "source": [
    "# Вывод наименования столбцов, формат которых является (а) целочисленным int64, (б) с плавающей точкой float64\n",
    "numeric_features"
   ]
  },
  {
   "cell_type": "code",
   "execution_count": 23,
   "metadata": {},
   "outputs": [
    {
     "data": {
      "text/plain": [
       "StandardScaler()"
      ]
     },
     "execution_count": 23,
     "metadata": {},
     "output_type": "execute_result"
    }
   ],
   "source": [
    "# Инициализация метода стандартизирования наблюдений.\n",
    "scaler = StandardScaler()\n",
    "# Подгонка метода стандартизации наблюдений по обучающему множеству\n",
    "scaler.fit(features_train[numeric_features])"
   ]
  },
  {
   "cell_type": "code",
   "execution_count": 24,
   "metadata": {},
   "outputs": [
    {
     "name": "stderr",
     "output_type": "stream",
     "text": [
      "/home/urma/anaconda3/lib/python3.7/site-packages/ipykernel_launcher.py:5: SettingWithCopyWarning: \n",
      "A value is trying to be set on a copy of a slice from a DataFrame.\n",
      "Try using .loc[row_indexer,col_indexer] = value instead\n",
      "\n",
      "See the caveats in the documentation: https://pandas.pydata.org/pandas-docs/stable/user_guide/indexing.html#returning-a-view-versus-a-copy\n",
      "  \"\"\"\n",
      "/home/urma/anaconda3/lib/python3.7/site-packages/pandas/core/indexing.py:1734: SettingWithCopyWarning: \n",
      "A value is trying to be set on a copy of a slice from a DataFrame.\n",
      "Try using .loc[row_indexer,col_indexer] = value instead\n",
      "\n",
      "See the caveats in the documentation: https://pandas.pydata.org/pandas-docs/stable/user_guide/indexing.html#returning-a-view-versus-a-copy\n",
      "  isetter(loc, value[:, i].tolist())\n"
     ]
    }
   ],
   "source": [
    "# Преобразование наблюдений\n",
    "# (i) обучающего множества\n",
    "features_train[numeric_features] = scaler.transform(features_train[numeric_features])\n",
    "# (ii) валидационного множества\n",
    "features_valid[numeric_features] = scaler.transform(features_valid[numeric_features])\n",
    "# (iii) тестового множества\n",
    "features_test[numeric_features] = scaler.transform(features_test[numeric_features])"
   ]
  },
  {
   "cell_type": "markdown",
   "metadata": {},
   "source": [
    "#### Промежуточные выводы\n",
    "- Выборочная совокупность составляет 10 000 клиентов банка `Большой Кошелек`. По каждому из клиентов имеются 13 показателей, отражающие социальное, экономическое, географическое, демографическое положения  и 1 целевой признак, отражающий факт ухода из банка.\n",
    "- Характеристики, отражающие пол преобразованы в индикаторные переменные.\n",
    "- В матрицу характеристик клиентов не включены (1) индекс строки, (2) фамилия, (3) уникальный идентификатор клиентов.\n",
    "- 60, 20, 20 процентов исходной выборочной совокупности разделены на обучающее, валидационное и тестовое множества, соответственно.\n",
    "- Определили категории клиентов в зависимости от (а) предполагаемой заработной платы, (б) баланса на счете, (в) возраста.\n",
    "- Наблюдения с целочисленным форматом int64 и форматом с плавающей точкой float64 приведены к наблюдениям с нулевым средним $\\mu=0$ и единичным стандартным отклонением $\\sigma=1$."
   ]
  },
  {
   "cell_type": "markdown",
   "metadata": {},
   "source": [
    "# 2. Исследование задачи"
   ]
  },
  {
   "cell_type": "code",
   "execution_count": 25,
   "metadata": {},
   "outputs": [
    {
     "data": {
      "text/plain": [
       "0    0.7963\n",
       "1    0.2037\n",
       "Name: Exited, dtype: float64"
      ]
     },
     "execution_count": 25,
     "metadata": {},
     "output_type": "execute_result"
    }
   ],
   "source": [
    "# Подсчет доли клиентов согласно факту ухода\n",
    "churn['Exited'].value_counts(normalize=True)"
   ]
  },
  {
   "cell_type": "markdown",
   "metadata": {},
   "source": [
    "- 20.37 процентов индивидов уже не являются клиентами `Большой Кошелек`.\n",
    "- 79.63 процента индивидов продолжают пользоваться услугами `Большой Кошелек`.\n",
    "\n",
    "Впоследствии, воспользуемся тремя методами преодоления дисбаланса целевого признака: указание в аргументе class_weight=='balanced' моделей cлучайного леса"
   ]
  },
  {
   "cell_type": "markdown",
   "metadata": {},
   "source": [
    "Далее, обучим модель случайного леса в зависимости от максимальной глубины max_depth и количества деревьев n_estimators."
   ]
  },
  {
   "cell_type": "code",
   "execution_count": 26,
   "metadata": {},
   "outputs": [],
   "source": [
    "# Определим функцию plot_metrics, которая строит графическую иллюстрацию метрики\n",
    "def plot_metrics(dataframe, metrics, style=['g+-'], threshold=None):\n",
    "    '''\n",
    "    dataframe: массив со значениями метрик f1_score, auc_roc_score\n",
    "    metrics: метрика (например, f1_score, auc_roc_score)\n",
    "    style: стиль построения значений метрики\n",
    "    threshold: пороговый уровень\n",
    "    output: графическая иллюстрация указанной метрики\n",
    "    '''\n",
    "    # Определение фигуры для диаграммы\n",
    "    fig, axes = plt.subplots(nrows=1, ncols=1, figsize=(13,5))\n",
    "    # Построение указанной метрики\n",
    "    dataframe[metrics].plot(ax=axes, style=style, legend=True)\n",
    "    \n",
    "    axes.set_xticks(dataframe.index)\n",
    "    # Определим метки для оси ОХ, где первая метка - глубина деревьев, вторая метка - количество деревьев в лесу\n",
    "    axes.set_xticklabels(zip(dataframe['max_depth'], dataframe['n_estimators']), rotation=60)\n",
    "    # Определим подпись для оси ОХ\n",
    "    axes.set_xlabel('(max_depth, n_estimators)')\n",
    "    # Определим подпись для оси ОУ\n",
    "    axes.set_ylabel(metrics)\n",
    "    # если указан пороговый уровень, то\n",
    "    if threshold != None:\n",
    "        # отображаем указанный порог черной линией\n",
    "        plt.axhline(y=threshold, lw=3, c='k', label='threshold')\n",
    "    else:\n",
    "        pass\n",
    "    # Отображение легенды\n",
    "    plt.legend()\n",
    "    # Сжатие диаграммы\n",
    "    plt.tight_layout()"
   ]
  },
  {
   "cell_type": "code",
   "execution_count": 27,
   "metadata": {},
   "outputs": [],
   "source": [
    "# Определим функцию, которая отображает 5 моделей, по которым наблюдаются наибольшие величины указанных метрик\n",
    "def top_5_by_metrics(dataframe, metrics):\n",
    "    '''\n",
    "    dataframe: массив со значениями метрик f1_score, auc_roc_score\n",
    "    metrics: метрика (например, f1_score, auc_roc_score)\n",
    "    output: вывод 5-ти моделей, по которым наблюдаются наибольшие величин метрик указанных в аргументе metrics\n",
    "    '''\n",
    "    return dataframe.sort_values(by=[metrics], ascending=False).head(5)"
   ]
  },
  {
   "cell_type": "code",
   "execution_count": 28,
   "metadata": {},
   "outputs": [
    {
     "name": "stdout",
     "output_type": "stream",
     "text": [
      "CPU times: user 46.7 s, sys: 2.86 s, total: 49.6 s\n",
      "Wall time: 19.4 s\n"
     ]
    }
   ],
   "source": [
    "%%time\n",
    "# В контексте сбалансированного валидационного множества определим листы, значениями которых будут\n",
    "# (а) метрики f1\n",
    "f1_valid_balance = []\n",
    "# (б) площадь под ROC-кривой\n",
    "auc_roc_valid_balance = []\n",
    "# (в) глубина деревьев\n",
    "max_depth_balance = []\n",
    "# (г) количество деревье\n",
    "n_estimators_balance = []\n",
    "\n",
    "# Через цикл for\n",
    "# (1) определим максимальную длину случайного леса, в частности от 30 до 36 с шагом 5\n",
    "for depth in range(30,36,5):\n",
    "    # (2) и количество деревьев от 10 до 310 с шагом 10 [3*22=66 моделей]\n",
    "    for estimate in range(100,211,10):\n",
    "        # (3) построим модели случайного леса в зависимости от глубины и количества деревьев \n",
    "        # при этом задействуем все процессоры и учтем баланс целевого признака\n",
    "        forest_balance = RandomForestClassifier(random_state=42, max_depth=depth, n_estimators=estimate,\n",
    "                                        n_jobs=-1, class_weight='balanced')\n",
    "        # (4) обучим модели случайного леса на тренировочном множестве\n",
    "        forest_balance.fit(features_train, target_train)\n",
    "        # (5) определим вероятность ухода клиента на валидационном множестве\n",
    "        predicted_valid_balance = forest_balance.predict(features_valid)\n",
    "        # (6) аналогично, определим вероятность ухода клиента\n",
    "        pred_prob_valid_balance = forest_balance.predict_proba(features_valid)\n",
    "        # (7) выделим вероятность принадлежности индивида к классу 1\n",
    "        pred_prob_one_valid_balance = pred_prob_valid_balance[range(len(pred_prob_valid_balance)), 1]\n",
    "        # (8) вычислим метрику f1 в контексте валидационного множества\n",
    "        f1_valid_balance.append(f1_score(target_valid, predicted_valid_balance))\n",
    "        # (9) вычислим площадь под ROC-кривой\n",
    "        auc_roc_valid_balance.append(roc_auc_score(target_valid, pred_prob_one_valid_balance)) \n",
    "        # (10) зафиксируем глубину деревьев\n",
    "        max_depth_balance.append(depth)\n",
    "        # (12) зафиксируем количество деревье\n",
    "        n_estimators_balance.append(estimate)"
   ]
  },
  {
   "cell_type": "code",
   "execution_count": 29,
   "metadata": {},
   "outputs": [],
   "source": [
    "# Формирование базы данных, в которой отражены величины метрик f1_score и площади под ROC-кривой auc_roc_score\n",
    "# с указанием максимальной глубины max_depth и количества деревьев n_estimators сбалансированного случайного леса\n",
    "metrics_balance = pd.DataFrame({'f1_score':f1_valid_balance,\n",
    "                                 'auc_roc_score':auc_roc_valid_balance,\n",
    "                                 'max_depth':max_depth_balance,\n",
    "                                 'n_estimators':n_estimators_balance})"
   ]
  },
  {
   "cell_type": "code",
   "execution_count": 30,
   "metadata": {},
   "outputs": [
    {
     "data": {
      "text/html": [
       "<div>\n",
       "<style scoped>\n",
       "    .dataframe tbody tr th:only-of-type {\n",
       "        vertical-align: middle;\n",
       "    }\n",
       "\n",
       "    .dataframe tbody tr th {\n",
       "        vertical-align: top;\n",
       "    }\n",
       "\n",
       "    .dataframe thead th {\n",
       "        text-align: right;\n",
       "    }\n",
       "</style>\n",
       "<table border=\"1\" class=\"dataframe\">\n",
       "  <thead>\n",
       "    <tr style=\"text-align: right;\">\n",
       "      <th></th>\n",
       "      <th>f1_score</th>\n",
       "      <th>auc_roc_score</th>\n",
       "      <th>max_depth</th>\n",
       "      <th>n_estimators</th>\n",
       "    </tr>\n",
       "  </thead>\n",
       "  <tbody>\n",
       "    <tr>\n",
       "      <th>0</th>\n",
       "      <td>0.550955</td>\n",
       "      <td>0.850060</td>\n",
       "      <td>30</td>\n",
       "      <td>100</td>\n",
       "    </tr>\n",
       "    <tr>\n",
       "      <th>1</th>\n",
       "      <td>0.550079</td>\n",
       "      <td>0.849707</td>\n",
       "      <td>30</td>\n",
       "      <td>110</td>\n",
       "    </tr>\n",
       "    <tr>\n",
       "      <th>2</th>\n",
       "      <td>0.550079</td>\n",
       "      <td>0.850325</td>\n",
       "      <td>30</td>\n",
       "      <td>120</td>\n",
       "    </tr>\n",
       "    <tr>\n",
       "      <th>3</th>\n",
       "      <td>0.548644</td>\n",
       "      <td>0.852062</td>\n",
       "      <td>30</td>\n",
       "      <td>130</td>\n",
       "    </tr>\n",
       "    <tr>\n",
       "      <th>4</th>\n",
       "      <td>0.553797</td>\n",
       "      <td>0.852333</td>\n",
       "      <td>30</td>\n",
       "      <td>140</td>\n",
       "    </tr>\n",
       "    <tr>\n",
       "      <th>5</th>\n",
       "      <td>0.552381</td>\n",
       "      <td>0.853223</td>\n",
       "      <td>30</td>\n",
       "      <td>150</td>\n",
       "    </tr>\n",
       "    <tr>\n",
       "      <th>6</th>\n",
       "      <td>0.550079</td>\n",
       "      <td>0.853042</td>\n",
       "      <td>30</td>\n",
       "      <td>160</td>\n",
       "    </tr>\n",
       "    <tr>\n",
       "      <th>7</th>\n",
       "      <td>0.551834</td>\n",
       "      <td>0.853847</td>\n",
       "      <td>30</td>\n",
       "      <td>170</td>\n",
       "    </tr>\n",
       "    <tr>\n",
       "      <th>8</th>\n",
       "      <td>0.553259</td>\n",
       "      <td>0.854231</td>\n",
       "      <td>30</td>\n",
       "      <td>180</td>\n",
       "    </tr>\n",
       "    <tr>\n",
       "      <th>9</th>\n",
       "      <td>0.550633</td>\n",
       "      <td>0.853699</td>\n",
       "      <td>30</td>\n",
       "      <td>190</td>\n",
       "    </tr>\n",
       "    <tr>\n",
       "      <th>10</th>\n",
       "      <td>0.549763</td>\n",
       "      <td>0.853101</td>\n",
       "      <td>30</td>\n",
       "      <td>200</td>\n",
       "    </tr>\n",
       "    <tr>\n",
       "      <th>11</th>\n",
       "      <td>0.549206</td>\n",
       "      <td>0.852861</td>\n",
       "      <td>30</td>\n",
       "      <td>210</td>\n",
       "    </tr>\n",
       "    <tr>\n",
       "      <th>12</th>\n",
       "      <td>0.550955</td>\n",
       "      <td>0.850060</td>\n",
       "      <td>35</td>\n",
       "      <td>100</td>\n",
       "    </tr>\n",
       "    <tr>\n",
       "      <th>13</th>\n",
       "      <td>0.550079</td>\n",
       "      <td>0.849707</td>\n",
       "      <td>35</td>\n",
       "      <td>110</td>\n",
       "    </tr>\n",
       "    <tr>\n",
       "      <th>14</th>\n",
       "      <td>0.550079</td>\n",
       "      <td>0.850325</td>\n",
       "      <td>35</td>\n",
       "      <td>120</td>\n",
       "    </tr>\n",
       "    <tr>\n",
       "      <th>15</th>\n",
       "      <td>0.548644</td>\n",
       "      <td>0.852062</td>\n",
       "      <td>35</td>\n",
       "      <td>130</td>\n",
       "    </tr>\n",
       "    <tr>\n",
       "      <th>16</th>\n",
       "      <td>0.553797</td>\n",
       "      <td>0.852333</td>\n",
       "      <td>35</td>\n",
       "      <td>140</td>\n",
       "    </tr>\n",
       "    <tr>\n",
       "      <th>17</th>\n",
       "      <td>0.552381</td>\n",
       "      <td>0.853223</td>\n",
       "      <td>35</td>\n",
       "      <td>150</td>\n",
       "    </tr>\n",
       "    <tr>\n",
       "      <th>18</th>\n",
       "      <td>0.550079</td>\n",
       "      <td>0.853042</td>\n",
       "      <td>35</td>\n",
       "      <td>160</td>\n",
       "    </tr>\n",
       "    <tr>\n",
       "      <th>19</th>\n",
       "      <td>0.551834</td>\n",
       "      <td>0.853847</td>\n",
       "      <td>35</td>\n",
       "      <td>170</td>\n",
       "    </tr>\n",
       "    <tr>\n",
       "      <th>20</th>\n",
       "      <td>0.553259</td>\n",
       "      <td>0.854231</td>\n",
       "      <td>35</td>\n",
       "      <td>180</td>\n",
       "    </tr>\n",
       "    <tr>\n",
       "      <th>21</th>\n",
       "      <td>0.550633</td>\n",
       "      <td>0.853699</td>\n",
       "      <td>35</td>\n",
       "      <td>190</td>\n",
       "    </tr>\n",
       "    <tr>\n",
       "      <th>22</th>\n",
       "      <td>0.549763</td>\n",
       "      <td>0.853101</td>\n",
       "      <td>35</td>\n",
       "      <td>200</td>\n",
       "    </tr>\n",
       "    <tr>\n",
       "      <th>23</th>\n",
       "      <td>0.549206</td>\n",
       "      <td>0.852861</td>\n",
       "      <td>35</td>\n",
       "      <td>210</td>\n",
       "    </tr>\n",
       "  </tbody>\n",
       "</table>\n",
       "</div>"
      ],
      "text/plain": [
       "    f1_score  auc_roc_score  max_depth  n_estimators\n",
       "0   0.550955       0.850060         30           100\n",
       "1   0.550079       0.849707         30           110\n",
       "2   0.550079       0.850325         30           120\n",
       "3   0.548644       0.852062         30           130\n",
       "4   0.553797       0.852333         30           140\n",
       "5   0.552381       0.853223         30           150\n",
       "6   0.550079       0.853042         30           160\n",
       "7   0.551834       0.853847         30           170\n",
       "8   0.553259       0.854231         30           180\n",
       "9   0.550633       0.853699         30           190\n",
       "10  0.549763       0.853101         30           200\n",
       "11  0.549206       0.852861         30           210\n",
       "12  0.550955       0.850060         35           100\n",
       "13  0.550079       0.849707         35           110\n",
       "14  0.550079       0.850325         35           120\n",
       "15  0.548644       0.852062         35           130\n",
       "16  0.553797       0.852333         35           140\n",
       "17  0.552381       0.853223         35           150\n",
       "18  0.550079       0.853042         35           160\n",
       "19  0.551834       0.853847         35           170\n",
       "20  0.553259       0.854231         35           180\n",
       "21  0.550633       0.853699         35           190\n",
       "22  0.549763       0.853101         35           200\n",
       "23  0.549206       0.852861         35           210"
      ]
     },
     "execution_count": 30,
     "metadata": {},
     "output_type": "execute_result"
    }
   ],
   "source": [
    "metrics_balance"
   ]
  },
  {
   "cell_type": "code",
   "execution_count": null,
   "metadata": {},
   "outputs": [],
   "source": []
  }
 ],
 "metadata": {
  "kernelspec": {
   "display_name": "Python 3",
   "language": "python",
   "name": "python3"
  },
  "language_info": {
   "codemirror_mode": {
    "name": "ipython",
    "version": 3
   },
   "file_extension": ".py",
   "mimetype": "text/x-python",
   "name": "python",
   "nbconvert_exporter": "python",
   "pygments_lexer": "ipython3",
   "version": "3.7.6"
  }
 },
 "nbformat": 4,
 "nbformat_minor": 2
}
